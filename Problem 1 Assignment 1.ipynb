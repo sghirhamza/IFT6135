{
 "cells": [
  {
   "cell_type": "markdown",
   "metadata": {},
   "source": [
    "\n",
    "# <center>Problem 1</center>\n",
    "\n"
   ]
  },
  {
   "cell_type": "markdown",
   "metadata": {},
   "source": [
    " <center>Fubraury 17, 2019 </center>\n"
   ]
  },
  {
   "cell_type": "markdown",
   "metadata": {},
   "source": [
    "##### Author:"
   ]
  },
  {
   "cell_type": "markdown",
   "metadata": {},
   "source": [
    "**Dehgan Arthur** :    20088465  \n",
    "**Sghir Hamza**   :    20147626     \n",
    "**Adrien Mainka** :    20130281  \n",
    "\n"
   ]
  },
  {
   "cell_type": "markdown",
   "metadata": {},
   "source": [
    " "
   ]
  },
  {
   "cell_type": "code",
   "execution_count": 5,
   "metadata": {},
   "outputs": [],
   "source": [
    "import numpy as np\n",
    "import matplotlib.pyplot as plt\n",
    "import pandas as pd\n",
    "import gzip\n",
    "import os\n",
    "import sys\n",
    "import struct\n",
    "import math\n",
    "import time"
   ]
  },
  {
   "cell_type": "markdown",
   "metadata": {},
   "source": [
    "# Data Preparation"
   ]
  },
  {
   "cell_type": "markdown",
   "metadata": {},
   "source": [
    "Test, train and validation sets"
   ]
  },
  {
   "cell_type": "code",
   "execution_count": 137,
   "metadata": {},
   "outputs": [],
   "source": [
    "data = np.load('mnist.npz')\n",
    "\n",
    "X_train = data['x_train'][:48000].reshape(48000, 784)\n",
    "y_train = data[\"y_train\"][:48000]\n",
    "X_valid = data['x_train'][48000:].reshape(12000, 784)\n",
    "y_valid = data[\"y_train\"][48000:]\n",
    "\n",
    "X_test = data['x_test'].reshape(10000, 784)\n",
    "y_test = data['y_test']"
   ]
  },
  {
   "cell_type": "code",
   "execution_count": null,
   "metadata": {},
   "outputs": [],
   "source": [
    "d0 = 28 * 28\n",
    "d1 = 490\n",
    "d2 = 450\n",
    "d3 = 10\n",
    "\n",
    "n_parameters = d0 * d1 + d1 + d1 * d2 + d2 + d2 * d3 + d3\n",
    "print('Total number of parameters: %d' % n_parameters)"
   ]
  },
  {
   "cell_type": "markdown",
   "metadata": {},
   "source": [
    "# Building the Model\n"
   ]
  },
  {
   "cell_type": "code",
   "execution_count": 25,
   "metadata": {},
   "outputs": [],
   "source": [
    "class Classifier:\n",
    "\n",
    "\n",
    "    def __init__(self, init_method, input_size = 784, n1=650 , n2=450, output_size = 10, \n",
    "                 hidden_dims=(490,490), n_hidden=2, mode='train'):\n",
    "\n",
    "        if init_method == \"normal\":\n",
    "            W1 = np.random.normal(size=(n1, input_size))\n",
    "            W2 = np.random.normal(size=(n2, n1))\n",
    "            W3 = np.random.normal(size=(output_size, n2))\n",
    "        elif init_method == \"zeros\":\n",
    "            W1 = np.zeros(shape=(n1, input_size))\n",
    "            W2 = np.zeros(shape=(n2, n1))\n",
    "            W3 = np.zeros(shape=(output_size, n2))\n",
    "        elif init_method == \"glorot\":\n",
    "            d1 = math.sqrt(6 / (input_size+n1))\n",
    "            d2 = math.sqrt(6 / (n1 + n2))\n",
    "            d3 = math.sqrt(6 / (n2 + output_size))\n",
    "            W1 = np.random.uniform(-d1, d1, size=(n1, input_size))\n",
    "            W2 = np.random.uniform(-d2, d2,size=(n2, n1))\n",
    "            W3 = np.random.uniform(-d3, d3,size=(output_size, n2))\n",
    "        \n",
    "        elif init_method==\"load\":\n",
    "            pass\n",
    "        else:\n",
    "            raise ValueError(\"init must be 'normal', 'zeros' or 'glorot'\")\n",
    "\n",
    "        b1 = np.zeros((n1))\n",
    "        b2 = np.zeros((n2))\n",
    "        b3 = np.zeros((output_size))\n",
    "        \n",
    "        self.Params = {'W1':W1, 'b1':b1,\n",
    "                       'W2':W2, 'b2':b2,\n",
    "                       'W3':W3, 'b3':b3}\n",
    "\n",
    "\n",
    "    def forward(self, x, y):\n",
    "                \n",
    "        h1 = np.dot(x, self.Params['W1'].T) + self.Params['b1']\n",
    "        h1_cache=(x, self.Params['W1'], self.Params['b1'], h1)\n",
    "        a1, a1_cache = self.relu_forward(h1)\n",
    "        \n",
    "        h2=np.dot(a1, self.Params['W2'].T) + self.Params['b2']\n",
    "        h2_cache=(a1, self.Params['W2'], self.Params['b2'], h2)\n",
    "        a2, a2_cache = self.relu_forward(h2)\n",
    "\n",
    "        scores=np.dot(a2, self.Params['W3'].T) + self.Params['b3']\n",
    "        scores_cache=(a2, self.Params['W3'], self.Params['b3'],scores )\n",
    "        preds = np.argmax(scores, axis=1)\n",
    "        softmax_loss, dsoftmax = self.softmax_loss(scores, y)\n",
    "        self.cache = ( h1_cache, a1_cache, h2_cache, a2_cache, scores_cache, dsoftmax)\n",
    "        return preds, softmax_loss\n",
    "\n",
    "    def backward(self, x, weight_decay=0):\n",
    "        \n",
    "        ( h1_cache, a1_cache, h2_cache, a2_cache, scores_cache, dsoftmax) = self.cache\n",
    "        (x, w, b, out) = scores_cache\n",
    "        da2 = np.dot(dsoftmax, w)\n",
    "        dW3 = np.dot(dsoftmax.T, x) / x.shape[0]\n",
    "        db3 = dsoftmax.sum(axis=0) / x.shape[0]\n",
    "        \n",
    "        dh2= ((a2_cache > 0) * da2)\n",
    "        \n",
    "        (x, w, b, out) = h2_cache\n",
    "        da1 = np.dot(dh2, w)\n",
    "        dW2 = np.dot(dh2.T, x) / x.shape[0]\n",
    "        db2 = dh2.sum(axis=0) / x.shape[0]\n",
    "        \n",
    "        \n",
    "        dh1= ((a1_cache > 0) * da1)\n",
    "\n",
    "        \n",
    "        (x, w, b, out) = h1_cache\n",
    "        dW1 = np.dot(dh1.T, x) / x.shape[0]\n",
    "        db1 = dh1.sum(axis=0) / x.shape[0]\n",
    "        \n",
    "\n",
    "        dW3 += weight_decay * self.Params['W3']\n",
    "        dW2 += weight_decay * self.Params['W2']\n",
    "        dW1 += weight_decay * self.Params['W1']\n",
    "\n",
    "        grads = {'W1':dW1, 'b1':db1,\n",
    "                 'W2':dW2, 'b2':db2,\n",
    "                 'W3':dW3, 'b3':db3}\n",
    "        return grads\n",
    "\n",
    "    def relu_forward(self, x):\n",
    "        return np.maximum(0, x), x\n",
    "\n",
    "    def softmax_loss(self, x, y):\n",
    "\n",
    "        shifted_logits = x - np.max(x, axis=1, keepdims=True)\n",
    "        Z = np.sum(np.exp(shifted_logits), axis=1, keepdims=True)\n",
    "        log_probs = shifted_logits - np.log(Z)\n",
    "        probs = np.exp(log_probs)\n",
    "        N = x.shape[0]\n",
    "        loss = -np.sum(log_probs[np.arange(N), y]) / N\n",
    "        dsof = probs.copy()\n",
    "        dsof[np.arange(N), y] -= 1\n",
    "        dsof /= N\n",
    "        return loss, dsof\n",
    "\n",
    "    def train(self, data, target, mb_size=64, learning_rate=1e-4, weight_decay=0.):\n",
    "        for i in range(math.ceil(data.shape[0] / mb_size)):\n",
    "            \n",
    "            xi = data[i*mb_size:(i+1)*mb_size]\n",
    "            yi = target[i*mb_size:(i+1)*mb_size]\n",
    "            y, loss = self.forward(xi, yi)\n",
    "            average_grads = self.backward(xi,weight_decay)\n",
    "            average_loss = loss\n",
    "            \n",
    "            for param, grad in average_grads.items():\n",
    "                self.Params[param] -= learning_rate * grad\n",
    "        return average_loss\n",
    "\n",
    "    def test(self, x, y):\n",
    "        preds, softmax_loss = self.forward(x, y)\n",
    "        return softmax_loss, preds\n",
    "    \n",
    "    def check_grad_w2(self,x , y, index, epsilon ):\n",
    "        self.forward(x,y)\n",
    "        grad = self.backward(x)\n",
    "        \n",
    "        i = math.floor(index / self.Params[\"W2\"].shape[1])\n",
    "        j = index % self.Params[\"W2\"].shape[1]\n",
    "        grad = grad[\"W2\"][i][j]\n",
    "        \n",
    "        self.Params[\"W2\"][i][j] += epsilon\n",
    "        _, l1 = self.forward(x,y)\n",
    "        \n",
    "        self.Params[\"W2\"][i][j] -=  2 *epsilon\n",
    "        _, l2 = self.forward(x,y)\n",
    "        \n",
    "        self.Params[\"W2\"][i][j] += epsilon\n",
    "#         print(\"grad {}  l1 {}   l2 {}\".format(grad,l1,l2))\n",
    "        \n",
    "        return abs( ( (l1 - l2) / (2.* epsilon) ) - grad)"
   ]
  },
  {
   "cell_type": "markdown",
   "metadata": {},
   "source": [
    "#### Running accuracy parameters"
   ]
  },
  {
   "cell_type": "code",
   "execution_count": 139,
   "metadata": {},
   "outputs": [],
   "source": [
    "def run_parameters(init_method, num_epochs,mb_size,learning_rate,  hidden_layer1, hidden_layer2):\n",
    "    mlp = MLP(init_method = init_method, n1 = hidden_layer1, n2 = hidden_layer2)\n",
    "    train_accu = []\n",
    "    train_losses = []\n",
    "    valid_accu = []\n",
    "    valid_losses = []\n",
    "\n",
    "\n",
    "    for e in range(num_epochs):\n",
    "        loss = mlp.train(X_train, y_train, mb_size, learning_rate)\n",
    "\n",
    "        loss_train, pred_train = mlp.test(X_train, y_train)\n",
    "        loss_valid, pred_valid = mlp.test(X_valid, y_valid)\n",
    "\n",
    "        valid_losses.append(loss_valid)\n",
    "\n",
    "        valid_accu.append((pred_valid == y_valid).mean())\n",
    "        acc_val=(pred_valid == y_valid).mean()\n",
    "        \n",
    "        train_losses.append(loss_train)\n",
    "\n",
    "        acc_train=(pred_train == y_train).mean()\n",
    "        train_accu.append((pred_train == y_train).mean())\n",
    "        \n",
    "        #print(\"val acc\"+ str(acc_val) + \"epoch :\" + str(e))\n",
    "        #print(\"train acc\"+ str(acc_train)+ \"epoch :\" + str(e))\n",
    "        #print(\"Epoch \"+str(e)+\"/\"+str(num_epochs)+\"  |  \"+ \"Val accuracy :\"+'{:.3f}'.format(acc_train) +\"  |  \"+\"Val accuracy :\"+'{:.3f}'.format(acc_val))\n",
    "\n",
    "    return acc_train, acc_val"
   ]
  },
  {
   "cell_type": "markdown",
   "metadata": {},
   "source": [
    "#### Running loss (cross entropy)"
   ]
  },
  {
   "cell_type": "code",
   "execution_count": 140,
   "metadata": {},
   "outputs": [],
   "source": [
    "def run_loss(init_method, num_epochs,mb_size,learning_rate,  hidden_layer1, hidden_layer2):\n",
    "    start = time.time()\n",
    "    mlp = Classifier(init_method = init_method, n1 = hidden_layer1, n2 = hidden_layer2)\n",
    "    train_losses = []\n",
    "    valid_losses = []\n",
    "    glob_time= time.time()\n",
    "    for e in range(num_epochs):\n",
    "        loss = mlp.train(X_train, y_train, mb_size, learning_rate)\n",
    "\n",
    "        loss_train, pred_train = mlp.test(X_train, y_train)\n",
    "        loss_valid, pred_valid = mlp.test(X_valid, y_valid)\n",
    "\n",
    "        valid_losses.append(loss_valid)\n",
    "        \n",
    "        train_losses.append(loss_train)\n",
    "     \n",
    "    \n",
    "        runtime = time.time() - start\n",
    "    \n",
    "        print(\"Epoch \"+str(e)+\"/\"+str(num_epochs)+\"  |  \"+ \"loss :\"+'{:.3f}'.format(loss_valid)+\"  |  \"+  '%.3f minutes\\n' % (runtime / 60.0) )\n",
    "    #total_time= time.time() - glob_time\n",
    "    print('%s executed in %.3f minutes\\n' % (init_method, runtime / 60.0))\n",
    "    plt.plot(range(0,num_epochs ), valid_losses, label=\"Val loss\")\n",
    "    plt.plot(range(0,num_epochs), train_losses, label=\"train loss\")\n",
    "    #plt.plot(range(0, 10), loss_f, label=\"loss\")\n",
    "    plt.legend(title=init_method)\n",
    "    plt.xlabel(\"epoch\")\n",
    "    plt.ylabel(\"loss\")\n",
    "    plt.show()\n",
    "    \n",
    "    return train_losses\n",
    "\n"
   ]
  },
  {
   "cell_type": "markdown",
   "metadata": {},
   "source": [
    "# Initialization"
   ]
  },
  {
   "cell_type": "markdown",
   "metadata": {},
   "source": [
    "### Network parameters\n"
   ]
  },
  {
   "cell_type": "markdown",
   "metadata": {},
   "source": [
    "hidden_dims = (650, 450)  \n",
    "n_hidden = 2  \n",
    "batchsize = 64  \n",
    "lr = .01  \n",
    "weight_decay = 0  \n",
    "activation = \"ReLU\""
   ]
  },
  {
   "cell_type": "markdown",
   "metadata": {},
   "source": [
    "#### Zero Initialization"
   ]
  },
  {
   "cell_type": "code",
   "execution_count": 142,
   "metadata": {},
   "outputs": [
    {
     "name": "stdout",
     "output_type": "stream",
     "text": [
      "Epoch 0/10  |  loss :2.303  |  0.753 minutes\n",
      "\n",
      "Epoch 1/10  |  loss :2.303  |  1.306 minutes\n",
      "\n",
      "Epoch 2/10  |  loss :2.303  |  1.807 minutes\n",
      "\n",
      "Epoch 3/10  |  loss :2.302  |  2.282 minutes\n",
      "\n",
      "Epoch 4/10  |  loss :2.302  |  2.730 minutes\n",
      "\n",
      "Epoch 5/10  |  loss :2.302  |  3.153 minutes\n",
      "\n",
      "Epoch 6/10  |  loss :2.302  |  3.587 minutes\n",
      "\n",
      "Epoch 7/10  |  loss :2.302  |  4.019 minutes\n",
      "\n",
      "Epoch 8/10  |  loss :2.302  |  4.449 minutes\n",
      "\n",
      "Epoch 9/10  |  loss :2.302  |  4.892 minutes\n",
      "\n",
      "zeros executed in 4.892 minutes\n",
      "\n"
     ]
    },
    {
     "data": {
      "image/png": "[encoded data removed]",
      "text/plain": [
       "<Figure size 432x288 with 1 Axes>"
      ]
     },
     "metadata": {
      "needs_background": "light"
     },
     "output_type": "display_data"
    }
   ],
   "source": [
    "loss_zero=[]\n",
    "loss_zero= run_loss(init_method = \"zeros\", num_epochs=10,mb_size = 64,learning_rate= 1e-2, hidden_layer1 = 650, hidden_layer2=450)\n"
   ]
  },
  {
   "cell_type": "markdown",
   "metadata": {},
   "source": [
    "#### Normal Initialization"
   ]
  },
  {
   "cell_type": "code",
   "execution_count": 143,
   "metadata": {},
   "outputs": [
    {
     "name": "stdout",
     "output_type": "stream",
     "text": [
      "Epoch 0/10  |  loss :49.392  |  0.483 minutes\n",
      "\n",
      "Epoch 1/10  |  loss :27.562  |  0.966 minutes\n",
      "\n",
      "Epoch 2/10  |  loss :21.238  |  1.447 minutes\n",
      "\n",
      "Epoch 3/10  |  loss :20.867  |  1.928 minutes\n",
      "\n",
      "Epoch 4/10  |  loss :19.370  |  2.419 minutes\n",
      "\n",
      "Epoch 5/10  |  loss :17.303  |  2.905 minutes\n",
      "\n",
      "Epoch 6/10  |  loss :17.181  |  3.393 minutes\n",
      "\n",
      "Epoch 7/10  |  loss :18.024  |  3.876 minutes\n",
      "\n",
      "Epoch 8/10  |  loss :15.442  |  4.388 minutes\n",
      "\n",
      "Epoch 9/10  |  loss :15.155  |  4.867 minutes\n",
      "\n",
      "normal executed in 4.867 minutes\n",
      "\n"
     ]
    },
    {
     "data": {
      "image/png": "[encoded data removed]",
      "text/plain": [
       "<Figure size 432x288 with 1 Axes>"
      ]
     },
     "metadata": {
      "needs_background": "light"
     },
     "output_type": "display_data"
    }
   ],
   "source": [
    "loss_normal=[]\n",
    "loss_normal= run_loss(init_method = \"normal\", num_epochs=10,mb_size = 64,learning_rate= 1e-2,  hidden_layer1 = 650, hidden_layer2=450)\n"
   ]
  },
  {
   "cell_type": "markdown",
   "metadata": {},
   "source": [
    "#### Glorit Initialization"
   ]
  },
  {
   "cell_type": "code",
   "execution_count": 144,
   "metadata": {},
   "outputs": [
    {
     "name": "stdout",
     "output_type": "stream",
     "text": [
      "Epoch 0/10  |  loss :1.807  |  0.503 minutes\n",
      "\n",
      "Epoch 1/10  |  loss :1.341  |  1.006 minutes\n",
      "\n",
      "Epoch 2/10  |  loss :1.211  |  1.521 minutes\n",
      "\n",
      "Epoch 3/10  |  loss :1.105  |  2.030 minutes\n",
      "\n",
      "Epoch 4/10  |  loss :1.002  |  2.535 minutes\n",
      "\n",
      "Epoch 5/10  |  loss :0.983  |  3.033 minutes\n",
      "\n",
      "Epoch 6/10  |  loss :0.936  |  3.547 minutes\n",
      "\n",
      "Epoch 7/10  |  loss :0.926  |  4.066 minutes\n",
      "\n",
      "Epoch 8/10  |  loss :0.906  |  4.578 minutes\n",
      "\n",
      "Epoch 9/10  |  loss :0.875  |  5.081 minutes\n",
      "\n",
      "glorot executed in 5.081 minutes\n",
      "\n"
     ]
    },
    {
     "data": {
      "image/png": "[encoded data removed]",
      "text/plain": [
       "<Figure size 432x288 with 1 Axes>"
      ]
     },
     "metadata": {
      "needs_background": "light"
     },
     "output_type": "display_data"
    }
   ],
   "source": [
    "loss_glorot=[]\n",
    "loss_glorot= run_loss(init_method = \"glorot\", num_epochs=10,mb_size = 64,learning_rate= 1e-2,  hidden_layer1 = 650, hidden_layer2=450)"
   ]
  },
  {
   "cell_type": "markdown",
   "metadata": {},
   "source": [
    "##### Loss Comparison"
   ]
  },
  {
   "cell_type": "markdown",
   "metadata": {},
   "source": [
    "Comparison of the loss on training data depending on the training time and initialization\n",
    "method. "
   ]
  },
  {
   "cell_type": "code",
   "execution_count": 145,
   "metadata": {},
   "outputs": [
    {
     "data": {
      "image/png": "[encoded data removed]",
      "text/plain": [
       "<Figure size 432x288 with 1 Axes>"
      ]
     },
     "metadata": {
      "needs_background": "light"
     },
     "output_type": "display_data"
    }
   ],
   "source": [
    "plt.plot(range(0, 10), loss_zero, label=\"zero\")\n",
    "plt.plot(range(0, 10), loss_normal, label=\"normal\")\n",
    "plt.plot(range(0, 10), loss_glorot, label=\"glorot\")\n",
    "plt.legend(title=\"W initialization\")\n",
    "plt.xlabel(\"epoch\")\n",
    "plt.ylabel(\"loss\")\n",
    "plt.show()"
   ]
  },
  {
   "cell_type": "markdown",
   "metadata": {},
   "source": [
    "The loss value for one epoch is the average value of loss obtained through the epoch.\n",
    "In fact, The loss rate remains high with zero and normal initialization and the MLP cannot correctly classify. However, with Glorot initialization,the gradients can correctly optimize the loss"
   ]
  },
  {
   "cell_type": "markdown",
   "metadata": {},
   "source": [
    "# Hyperparameter Search"
   ]
  },
  {
   "cell_type": "markdown",
   "metadata": {},
   "source": [
    "Set up a grid of hyperparameter values and select random combinations to train the model and score"
   ]
  },
  {
   "cell_type": "code",
   "execution_count": 114,
   "metadata": {},
   "outputs": [],
   "source": [
    "import random\n",
    "from prettytable import PrettyTable\n",
    "\n",
    "t = PrettyTable(['epoch', 'learning_rate','hidden1', 'hidden2','mini batch size','train accuracy','val accuracy'])\n",
    "\n",
    "def random_search(num_search):\n",
    "\n",
    "    for i in range(num_search):\n",
    "        # Random initialization of hyper-parameters\n",
    "        dim_l1 = random.choice([450,500,650])\n",
    "        dim_l2 = random.choice([450,400])\n",
    "        learning_rate = random.choice([1e-2, 0.05])\n",
    "\n",
    "        mini_batch_size= random.choice([32,25])\n",
    "        epochs= random.choice([10,12])\n",
    "        \n",
    "        # Creation and training of the NN\n",
    "        train_accu, valid_accu= run_parameters(init_method = \"glorot\", num_epochs=epochs,mb_size = mini_batch_size,learning_rate= learning_rate, hidden_layer1 = dim_l1, hidden_layer2=dim_l2)\n",
    "\n",
    "        t.add_row([epochs,learning_rate,dim_l1,dim_l2,mini_batch_size,train_accu,valid_accu])\n",
    "        print(t)\n"
   ]
  },
  {
   "cell_type": "code",
   "execution_count": 115,
   "metadata": {},
   "outputs": [
    {
     "name": "stdout",
     "output_type": "stream",
     "text": [
      "+-------+---------------+---------+---------+-----------------+--------------------+--------------+\n",
      "| epoch | learning_rate | hidden1 | hidden2 | mini batch size |   train accuracy   | val accuracy |\n",
      "+-------+---------------+---------+---------+-----------------+--------------------+--------------+\n",
      "|   10  |      0.05     |   500   |   450   |        32       | 0.9997291666666667 |   0.95925    |\n",
      "+-------+---------------+---------+---------+-----------------+--------------------+--------------+\n",
      "+-------+---------------+---------+---------+-----------------+--------------------+--------------------+\n",
      "| epoch | learning_rate | hidden1 | hidden2 | mini batch size |   train accuracy   |    val accuracy    |\n",
      "+-------+---------------+---------+---------+-----------------+--------------------+--------------------+\n",
      "|   10  |      0.05     |   500   |   450   |        32       | 0.9997291666666667 |      0.95925       |\n",
      "|   10  |      0.05     |   650   |   450   |        32       |       0.9995       | 0.9603333333333334 |\n",
      "+-------+---------------+---------+---------+-----------------+--------------------+--------------------+\n",
      "+-------+---------------+---------+---------+-----------------+--------------------+--------------------+\n",
      "| epoch | learning_rate | hidden1 | hidden2 | mini batch size |   train accuracy   |    val accuracy    |\n",
      "+-------+---------------+---------+---------+-----------------+--------------------+--------------------+\n",
      "|   10  |      0.05     |   500   |   450   |        32       | 0.9997291666666667 |      0.95925       |\n",
      "|   10  |      0.05     |   650   |   450   |        32       |       0.9995       | 0.9603333333333334 |\n",
      "|   10  |      0.05     |   500   |   400   |        32       | 0.9984583333333333 |       0.958        |\n",
      "+-------+---------------+---------+---------+-----------------+--------------------+--------------------+\n",
      "+-------+---------------+---------+---------+-----------------+--------------------+--------------------+\n",
      "| epoch | learning_rate | hidden1 | hidden2 | mini batch size |   train accuracy   |    val accuracy    |\n",
      "+-------+---------------+---------+---------+-----------------+--------------------+--------------------+\n",
      "|   10  |      0.05     |   500   |   450   |        32       | 0.9997291666666667 |      0.95925       |\n",
      "|   10  |      0.05     |   650   |   450   |        32       |       0.9995       | 0.9603333333333334 |\n",
      "|   10  |      0.05     |   500   |   400   |        32       | 0.9984583333333333 |       0.958        |\n",
      "|   10  |      0.01     |   500   |   400   |        32       | 0.9993333333333333 |        0.95        |\n",
      "+-------+---------------+---------+---------+-----------------+--------------------+--------------------+\n",
      "+-------+---------------+---------+---------+-----------------+--------------------+--------------------+\n",
      "| epoch | learning_rate | hidden1 | hidden2 | mini batch size |   train accuracy   |    val accuracy    |\n",
      "+-------+---------------+---------+---------+-----------------+--------------------+--------------------+\n",
      "|   10  |      0.05     |   500   |   450   |        32       | 0.9997291666666667 |      0.95925       |\n",
      "|   10  |      0.05     |   650   |   450   |        32       |       0.9995       | 0.9603333333333334 |\n",
      "|   10  |      0.05     |   500   |   400   |        32       | 0.9984583333333333 |       0.958        |\n",
      "|   10  |      0.01     |   500   |   400   |        32       | 0.9993333333333333 |        0.95        |\n",
      "|   12  |      0.01     |   500   |   450   |        25       |        1.0         |       0.956        |\n",
      "+-------+---------------+---------+---------+-----------------+--------------------+--------------------+\n",
      "+-------+---------------+---------+---------+-----------------+--------------------+--------------------+\n",
      "| epoch | learning_rate | hidden1 | hidden2 | mini batch size |   train accuracy   |    val accuracy    |\n",
      "+-------+---------------+---------+---------+-----------------+--------------------+--------------------+\n",
      "|   10  |      0.05     |   500   |   450   |        32       | 0.9997291666666667 |      0.95925       |\n",
      "|   10  |      0.05     |   650   |   450   |        32       |       0.9995       | 0.9603333333333334 |\n",
      "|   10  |      0.05     |   500   |   400   |        32       | 0.9984583333333333 |       0.958        |\n",
      "|   10  |      0.01     |   500   |   400   |        32       | 0.9993333333333333 |        0.95        |\n",
      "|   12  |      0.01     |   500   |   450   |        25       |        1.0         |       0.956        |\n",
      "|   10  |      0.05     |   650   |   450   |        25       | 0.9988333333333334 | 0.9644166666666667 |\n",
      "+-------+---------------+---------+---------+-----------------+--------------------+--------------------+\n",
      "+-------+---------------+---------+---------+-----------------+--------------------+--------------------+\n",
      "| epoch | learning_rate | hidden1 | hidden2 | mini batch size |   train accuracy   |    val accuracy    |\n",
      "+-------+---------------+---------+---------+-----------------+--------------------+--------------------+\n",
      "|   10  |      0.05     |   500   |   450   |        32       | 0.9997291666666667 |      0.95925       |\n",
      "|   10  |      0.05     |   650   |   450   |        32       |       0.9995       | 0.9603333333333334 |\n",
      "|   10  |      0.05     |   500   |   400   |        32       | 0.9984583333333333 |       0.958        |\n",
      "|   10  |      0.01     |   500   |   400   |        32       | 0.9993333333333333 |        0.95        |\n",
      "|   12  |      0.01     |   500   |   450   |        25       |        1.0         |       0.956        |\n",
      "|   10  |      0.05     |   650   |   450   |        25       | 0.9988333333333334 | 0.9644166666666667 |\n",
      "|   10  |      0.05     |   650   |   450   |        32       | 0.9999791666666666 | 0.9625833333333333 |\n",
      "+-------+---------------+---------+---------+-----------------+--------------------+--------------------+\n",
      "+-------+---------------+---------+---------+-----------------+--------------------+--------------------+\n",
      "| epoch | learning_rate | hidden1 | hidden2 | mini batch size |   train accuracy   |    val accuracy    |\n",
      "+-------+---------------+---------+---------+-----------------+--------------------+--------------------+\n",
      "|   10  |      0.05     |   500   |   450   |        32       | 0.9997291666666667 |      0.95925       |\n",
      "|   10  |      0.05     |   650   |   450   |        32       |       0.9995       | 0.9603333333333334 |\n",
      "|   10  |      0.05     |   500   |   400   |        32       | 0.9984583333333333 |       0.958        |\n",
      "|   10  |      0.01     |   500   |   400   |        32       | 0.9993333333333333 |        0.95        |\n",
      "|   12  |      0.01     |   500   |   450   |        25       |        1.0         |       0.956        |\n",
      "|   10  |      0.05     |   650   |   450   |        25       | 0.9988333333333334 | 0.9644166666666667 |\n",
      "|   10  |      0.05     |   650   |   450   |        32       | 0.9999791666666666 | 0.9625833333333333 |\n",
      "|   12  |      0.01     |   500   |   450   |        25       |        1.0         | 0.9558333333333333 |\n",
      "+-------+---------------+---------+---------+-----------------+--------------------+--------------------+\n",
      "+-------+---------------+---------+---------+-----------------+--------------------+--------------------+\n",
      "| epoch | learning_rate | hidden1 | hidden2 | mini batch size |   train accuracy   |    val accuracy    |\n",
      "+-------+---------------+---------+---------+-----------------+--------------------+--------------------+\n",
      "|   10  |      0.05     |   500   |   450   |        32       | 0.9997291666666667 |      0.95925       |\n",
      "|   10  |      0.05     |   650   |   450   |        32       |       0.9995       | 0.9603333333333334 |\n",
      "|   10  |      0.05     |   500   |   400   |        32       | 0.9984583333333333 |       0.958        |\n",
      "|   10  |      0.01     |   500   |   400   |        32       | 0.9993333333333333 |        0.95        |\n",
      "|   12  |      0.01     |   500   |   450   |        25       |        1.0         |       0.956        |\n",
      "|   10  |      0.05     |   650   |   450   |        25       | 0.9988333333333334 | 0.9644166666666667 |\n",
      "|   10  |      0.05     |   650   |   450   |        32       | 0.9999791666666666 | 0.9625833333333333 |\n",
      "|   12  |      0.01     |   500   |   450   |        25       |        1.0         | 0.9558333333333333 |\n",
      "|   12  |      0.05     |   500   |   450   |        25       | 0.9927916666666666 | 0.9594166666666667 |\n",
      "+-------+---------------+---------+---------+-----------------+--------------------+--------------------+\n"
     ]
    },
    {
     "name": "stdout",
     "output_type": "stream",
     "text": [
      "+-------+---------------+---------+---------+-----------------+--------------------+--------------------+\n",
      "| epoch | learning_rate | hidden1 | hidden2 | mini batch size |   train accuracy   |    val accuracy    |\n",
      "+-------+---------------+---------+---------+-----------------+--------------------+--------------------+\n",
      "|   10  |      0.05     |   500   |   450   |        32       | 0.9997291666666667 |      0.95925       |\n",
      "|   10  |      0.05     |   650   |   450   |        32       |       0.9995       | 0.9603333333333334 |\n",
      "|   10  |      0.05     |   500   |   400   |        32       | 0.9984583333333333 |       0.958        |\n",
      "|   10  |      0.01     |   500   |   400   |        32       | 0.9993333333333333 |        0.95        |\n",
      "|   12  |      0.01     |   500   |   450   |        25       |        1.0         |       0.956        |\n",
      "|   10  |      0.05     |   650   |   450   |        25       | 0.9988333333333334 | 0.9644166666666667 |\n",
      "|   10  |      0.05     |   650   |   450   |        32       | 0.9999791666666666 | 0.9625833333333333 |\n",
      "|   12  |      0.01     |   500   |   450   |        25       |        1.0         | 0.9558333333333333 |\n",
      "|   12  |      0.05     |   500   |   450   |        25       | 0.9927916666666666 | 0.9594166666666667 |\n",
      "|   10  |      0.01     |   450   |   400   |        25       | 0.9999583333333333 | 0.9566666666666667 |\n",
      "+-------+---------------+---------+---------+-----------------+--------------------+--------------------+\n"
     ]
    }
   ],
   "source": [
    "random_search(10)"
   ]
  },
  {
   "cell_type": "markdown",
   "metadata": {},
   "source": [
    "Our best hyper-parameters "
   ]
  },
  {
   "cell_type": "code",
   "execution_count": 125,
   "metadata": {},
   "outputs": [],
   "source": [
    "import random\n",
    "from prettytable import PrettyTable\n",
    "\n",
    "t = PrettyTable(['epoch', 'learning_rate','hidden1', 'hidden2','mini batch size','train accuracy','val accuracy'])\n",
    "\n",
    "def random_search(num_search):\n",
    "\n",
    "    for i in range(num_search):\n",
    "        # Random initialization of hyper-parameters\n",
    "        dim_l1 = random.choice([650])\n",
    "        dim_l2 = random.choice([450])\n",
    "        learning_rate = random.choice([0.05])\n",
    "\n",
    "        mini_batch_size= random.choice([20])\n",
    "        epochs= random.choice([20])\n",
    "        \n",
    "        # Creation and training of the NN\n",
    "        train_accu, valid_accu= run_parameters(init_method = \"glorot\", num_epochs=epochs,mb_size = mini_batch_size,learning_rate= learning_rate, hidden_layer1 = dim_l1, hidden_layer2=dim_l2)\n",
    "\n",
    "        t.add_row([epochs,learning_rate,dim_l1,dim_l2,mini_batch_size,train_accu,valid_accu])\n",
    "        print(t)\n"
   ]
  },
  {
   "cell_type": "code",
   "execution_count": 124,
   "metadata": {},
   "outputs": [
    {
     "name": "stdout",
     "output_type": "stream",
     "text": [
      "+-------+---------------+---------+---------+-----------------+--------------------+--------------------+\n",
      "| epoch | learning_rate | hidden1 | hidden2 | mini batch size |   train accuracy   |    val accuracy    |\n",
      "+-------+---------------+---------+---------+-----------------+--------------------+--------------------+\n",
      "|   20  |      0.05     |   650   |   450   |        20       | 0.9995416666666667 | 0.9679166666666666 |\n",
      "+-------+---------------+---------+---------+-----------------+--------------------+--------------------+\n"
     ]
    }
   ],
   "source": [
    "random_search(1)"
   ]
  },
  {
   "cell_type": "markdown",
   "metadata": {},
   "source": [
    "We are able to obtain an accuracy higher than 96.79% on the validation set using MLP with 2 hidden layers of 650 and 450 units. We use a learning rate of 0.05, a SGD with a batch size of 32, ReLU activation functions for the hidden layers, and a\n",
    "cross-entropy loss."
   ]
  },
  {
   "cell_type": "markdown",
   "metadata": {},
   "source": [
    "# Validate Gradients using Finite Difference"
   ]
  },
  {
   "cell_type": "code",
   "execution_count": 4,
   "metadata": {},
   "outputs": [],
   "source": [
    "# read the data\n",
    "data = pd.read_csv(\"../mnist_train.csv\")\n",
    "X = data.values[:,1:]/255\n",
    "Y = data.values[:,0]"
   ]
  },
  {
   "cell_type": "code",
   "execution_count": 46,
   "metadata": {},
   "outputs": [],
   "source": [
    "model3 = Classifier(init_method=\"glorot\")"
   ]
  },
  {
   "cell_type": "code",
   "execution_count": 51,
   "metadata": {},
   "outputs": [],
   "source": [
    "N = []\n",
    "diff_grad = []\n",
    "for i in range(0,4):\n",
    "    for k in [1,5]:\n",
    "        N.append(k*10**i)\n",
    "        diff_grad.append(max([model3.check_grad_w2(X[50:51],Y[50:51], index, 1/(k*10**i)) for index in range(10) ] ) )\n",
    "        \n",
    "        "
   ]
  },
  {
   "cell_type": "code",
   "execution_count": 57,
   "metadata": {},
   "outputs": [
    {
     "data": {
      "text/plain": [
       "Text(0, 0.5, '$log_{10}(\\\\max_{1 \\\\leq i \\\\leq p} |\\\\nabla^N_i - \\\\frac{\\\\partial L}{\\\\partial \\\\theta_i}|) $\\t\\t\\t\\t\\t')"
      ]
     },
     "execution_count": 57,
     "metadata": {},
     "output_type": "execute_result"
    },
    {
     "data": {
      "image/png": "[encoded data removed]",
      "text/plain": [
       "<Figure size 432x288 with 1 Axes>"
      ]
     },
     "metadata": {
      "needs_background": "light"
     },
     "output_type": "display_data"
    }
   ],
   "source": [
    "plt.scatter(np.log10(N),np.log10(diff_grad))\n",
    "plt.title(\"Maximum of the absolute difference between the gradient computed by the back\\n propagation function and the finite difference method, over the 10 first elements of w2.\\nLogarithmic scale for both axis.\\n\")\n",
    "plt.xlabel(\"$log_{10}( N )$\",fontsize=18)\n",
    "plt.ylabel(\"$log_{10}(\\\\max_{1 \\\\leq i \\\\leq p} |\\\\nabla^N_i - \\\\frac{\\\\partial L}{\\\\partial \\\\theta_i}|) $\"+5*\"\\t\", rotation=0, fontsize=18)"
   ]
  },
  {
   "cell_type": "markdown",
   "metadata": {},
   "source": [
    "As we can see, as $N$ increases, and consequently $\\epsilon = \\frac{1}{N}$ decreases $\\max_{1 \\leq i \\leq p} |\\nabla^N_i - \\frac{\\partial L}{\\partial \\theta_i}| $ decreases and tends to zero. This shows that we compute well the gradient."
   ]
  }
 ],
 "metadata": {
  "kernelspec": {
   "display_name": "Python 3",
   "language": "python",
   "name": "python3"
  },
  "language_info": {
   "codemirror_mode": {
    "name": "ipython",
    "version": 3
   },
   "file_extension": ".py",
   "mimetype": "text/x-python",
   "name": "python",
   "nbconvert_exporter": "python",
   "pygments_lexer": "ipython3",
   "version": "3.7.2"
  }
 },
 "nbformat": 4,
 "nbformat_minor": 2
}
