{
 "cells": [
  {
   "cell_type": "markdown",
   "metadata": {},
   "source": [
    "\n",
    "# <center>Problem 2</center>\n",
    "\n"
   ]
  },
  {
   "cell_type": "markdown",
   "metadata": {},
   "source": [
    " <center>Fubraury 17, 2019 </center>\n"
   ]
  },
  {
   "cell_type": "markdown",
   "metadata": {},
   "source": [
    "##### Author:\n"
   ]
  },
  {
   "cell_type": "markdown",
   "metadata": {},
   "source": [
    "**Dehgan Arthur** :    20088465  \n",
    "**Sghir Hamza**   :    20147626     \n",
    "**Adrien Mainka** :    20130281  \n",
    "\n"
   ]
  },
  {
   "cell_type": "markdown",
   "metadata": {},
   "source": [
    "inspired from https://github.com/MaximumEntropy/welcome_tutorials/tree/pytorch/pytorch"
   ]
  },
  {
   "cell_type": "code",
   "execution_count": 77,
   "metadata": {},
   "outputs": [],
   "source": [
    "import numpy as np\n",
    "import torch\n",
    "import torch.nn as nn\n",
    "import torch.optim as optim\n",
    "import torch.nn.init as init\n",
    "import torch.nn.functional as F\n",
    "from torch.autograd import Variable\n",
    "from torch.utils.data import DataLoader\n",
    "from torch.utils.data import sampler\n",
    "\n",
    "\n",
    "import torchvision\n",
    "import torchvision.transforms\n",
    "import matplotlib.pyplot as plt"
   ]
  },
  {
   "cell_type": "markdown",
   "metadata": {},
   "source": [
    "## Define image transformations & Initialize datasets\n"
   ]
  },
  {
   "cell_type": "code",
   "execution_count": 36,
   "metadata": {},
   "outputs": [],
   "source": [
    "#Define image transformations & Initialize datasets\n",
    "\n",
    "mnist_transforms = torchvision.transforms.Compose([torchvision.transforms.ToTensor()])\n",
    "mnist_train = torchvision.datasets.MNIST(root='./data', train=True, transform=mnist_transforms, download=True)\n",
    "mnist_test = torchvision.datasets.MNIST(root='./data', train=False, transform=mnist_transforms, download=True)\n",
    "\n",
    "# DataLoaders\n",
    "num_train = 48000\n",
    "loader_train = DataLoader(mnist_train, batch_size=64, sampler=sampler.SubsetRandomSampler(range(num_train)))\n",
    "loader_val = DataLoader(mnist_train, batch_size=64,sampler=sampler.SubsetRandomSampler(range(num_train, 60000)))\n",
    "loader_test = DataLoader(mnist_test, batch_size=64)"
   ]
  },
  {
   "cell_type": "markdown",
   "metadata": {},
   "source": [
    "## Data visualisation"
   ]
  },
  {
   "cell_type": "code",
   "execution_count": 42,
   "metadata": {},
   "outputs": [
    {
     "data": {
      "image/png": "[encoded data removed]",
      "text/plain": [
       "<Figure size 432x288 with 64 Axes>"
      ]
     },
     "metadata": {
      "needs_background": "light"
     },
     "output_type": "display_data"
    }
   ],
   "source": [
    "X, y = iter(loader_train).next()\n",
    "data = X.numpy()\n",
    "\n",
    "for i in range(8):\n",
    "    for j in range(8):\n",
    "        plt_idx = i * 8 + j + 1\n",
    "        ax = plt.subplot(8, 8, plt_idx)\n",
    "        plt.imshow(data[j+(i*8),0]+0.13087, cmap='gray', vmin=0, vmax=1)\n",
    "        plt.axis('off')\n",
    "        if i == 0 and j == 0:\n",
    "            plt.title('A minibatch of training data', size=14)\n",
    "plt.show()\n"
   ]
  },
  {
   "cell_type": "markdown",
   "metadata": {},
   "source": [
    "## CNN Classifier"
   ]
  },
  {
   "cell_type": "code",
   "execution_count": 67,
   "metadata": {},
   "outputs": [],
   "source": [
    "class Classifier(nn.Module):\n",
    "    \"\"\"Convnet Classifier\"\"\"\n",
    "    def __init__(self):\n",
    "        super(Classifier, self).__init__()\n",
    "        \n",
    "        # Convolutional Layers\n",
    "        self.conv = nn.Sequential(\n",
    "            # Layer 1\n",
    "            nn.Conv2d(in_channels=1, out_channels=32, kernel_size=(3, 3), padding=1),\n",
    "            nn.ReLU(),\n",
    "\n",
    "            # Layer 2\n",
    "            nn.Conv2d(in_channels=32, out_channels=32, kernel_size=(3, 3), padding=1),\n",
    "            nn.ReLU(),\n",
    "            nn.MaxPool2d(kernel_size=(2,2), stride=2),\n",
    "\n",
    "            # Layer 3\n",
    "            nn.Conv2d(in_channels=32, out_channels=64, kernel_size=(3, 3), padding=1),\n",
    "            nn.ReLU(),\n",
    "\n",
    "            # Layer 4\n",
    "            nn.Conv2d(in_channels=64, out_channels=128, kernel_size=(3, 3), padding=1),\n",
    "            nn.ReLU(),\n",
    "            nn.MaxPool2d(kernel_size=(2,2), stride=2)\n",
    "        )\n",
    "        \n",
    "        # Fully Connected layers\n",
    "        self.fc = nn.Sequential(\n",
    "            nn.Linear(7 * 7 * 128, 64),\n",
    "            nn.ReLU(),\n",
    "            nn.Linear(64, 10)\n",
    "        )\n",
    "\n",
    "    def forward(self, x):\n",
    "        return self.fc(self.conv(x).view(x.shape[0], -1))\n",
    "    \n",
    "    def evalute(self, data):\n",
    "        \n",
    "            # Evaluate\n",
    "        clf.eval()  \n",
    "        total = 0\n",
    "        correct = 0\n",
    "        for batch_idx, (inputs, targets) in enumerate(data):\n",
    "            \n",
    "            if cuda_available:\n",
    "                inputs, targets = inputs.cuda(), targets.cuda()\n",
    "                    \n",
    "            inputs, targets = Variable(inputs, volatile=True), Variable(targets, volatile=True)\n",
    "            outputs = clf(inputs)\n",
    "            _, predicted = torch.max(outputs.data, 1)\n",
    "            total += targets.size(0)\n",
    "            correct += (predicted == targets).sum().item()\n",
    "            #print(total)\n",
    "            #print(correct)\n",
    "            #print(\"\\n\")\n",
    "\n",
    "        return correct/total"
   ]
  },
  {
   "cell_type": "code",
   "execution_count": 68,
   "metadata": {},
   "outputs": [],
   "source": [
    "cuda_available = torch.cuda.is_available()\n",
    "\n",
    "clf = Classifier()\n",
    "if cuda_available:\n",
    "    clf = clf.cuda()\n",
    "optimizer = torch.optim.Adam(clf.parameters(), lr=1e-4)\n",
    "criterion = nn.CrossEntropyLoss()"
   ]
  },
  {
   "cell_type": "code",
   "execution_count": 69,
   "metadata": {},
   "outputs": [
    {
     "name": "stdout",
     "output_type": "stream",
     "text": [
      "Epoch : 0      Loss : 0.500 \n"
     ]
    },
    {
     "name": "stderr",
     "output_type": "stream",
     "text": [
      "C:\\Users\\Sghir\\Anaconda3\\lib\\site-packages\\ipykernel_launcher.py:48: UserWarning: volatile was removed and now has no effect. Use `with torch.no_grad():` instead.\n"
     ]
    },
    {
     "name": "stdout",
     "output_type": "stream",
     "text": [
      "Epoch :     0    train Acc : 95.09%     val Acc : 95.34%\n",
      "--------------------------------------------------------------\n",
      "Epoch : 1      Loss : 0.129 \n",
      "Epoch :     1    train Acc : 97.28%     val Acc : 97.04%\n",
      "--------------------------------------------------------------\n",
      "Epoch : 2      Loss : 0.085 \n",
      "Epoch :     2    train Acc : 98.04%     val Acc : 97.63%\n",
      "--------------------------------------------------------------\n",
      "Epoch : 3      Loss : 0.067 \n",
      "Epoch :     3    train Acc : 98.35%     val Acc : 98.00%\n",
      "--------------------------------------------------------------\n",
      "Epoch : 4      Loss : 0.054 \n",
      "Epoch :     4    train Acc : 98.76%     val Acc : 98.22%\n",
      "--------------------------------------------------------------\n",
      "Epoch : 5      Loss : 0.046 \n",
      "Epoch :     5    train Acc : 98.71%     val Acc : 98.32%\n",
      "--------------------------------------------------------------\n",
      "Epoch : 6      Loss : 0.040 \n",
      "Epoch :     6    train Acc : 98.80%     val Acc : 98.18%\n",
      "--------------------------------------------------------------\n",
      "Epoch : 7      Loss : 0.034 \n",
      "Epoch :     7    train Acc : 99.07%     val Acc : 98.22%\n",
      "--------------------------------------------------------------\n",
      "Epoch : 8      Loss : 0.029 \n",
      "Epoch :     8    train Acc : 99.25%     val Acc : 98.50%\n",
      "--------------------------------------------------------------\n",
      "Epoch : 9      Loss : 0.025 \n",
      "Epoch :     9    train Acc : 99.34%     val Acc : 98.61%\n",
      "--------------------------------------------------------------\n"
     ]
    }
   ],
   "source": [
    "loss_f=[]\n",
    "validation_acc=[]\n",
    "training_acc=[]\n",
    "for epoch in range(10):\n",
    "    losses = []\n",
    "    # Train\n",
    "    for batch_idx, (inputs, targets) in enumerate(loader_train):\n",
    "        if cuda_available:\n",
    "            inputs, targets = inputs.cuda(), targets.cuda()\n",
    "\n",
    "        optimizer.zero_grad()\n",
    "        inputs, targets = Variable(inputs), Variable(targets)\n",
    "        outputs = clf(inputs)\n",
    "        loss = criterion(outputs, targets)\n",
    "        loss.backward()\n",
    "        optimizer.step()\n",
    "        losses.append(loss.item())\n",
    "        \n",
    "    loss_f.append(np.mean(losses))\n",
    "    print('Epoch : %d      Loss : %.3f ' % (epoch, np.mean(losses)))\n",
    "    \n",
    "    train_acc=clf.evalute(loader_train)\n",
    "    val_acc=clf.evalute(loader_val)\n",
    "    print('Epoch : {:5d}    train Acc : {:3.2%}     val Acc : {:3.2%}'.format(epoch, train_acc,val_acc))\n",
    "    \n",
    "    print('--------------------------------------------------------------')\n",
    "    validation_acc.append(val_acc)\n",
    "    training_acc.append(train_acc)\n",
    "    clf.train()"
   ]
  },
  {
   "cell_type": "markdown",
   "metadata": {},
   "source": [
    "##### Parameters number"
   ]
  },
  {
   "cell_type": "code",
   "execution_count": 75,
   "metadata": {},
   "outputs": [
    {
     "name": "stdout",
     "output_type": "stream",
     "text": [
      "The numbre of learned parameters are : 504042\n"
     ]
    }
   ],
   "source": [
    "def count_parameters(model):\n",
    "    \n",
    "    return sum(p.numel() for p in model.parameters() if p.requires_grad)\n",
    "\n",
    "para=count_parameters(clf)\n",
    "print(\"The numbre of learned parameters are : \" +str(para))"
   ]
  },
  {
   "cell_type": "code",
   "execution_count": 72,
   "metadata": {},
   "outputs": [
    {
     "data": {
      "image/png": "[encoded data removed]",
      "text/plain": [
       "<Figure size 432x288 with 1 Axes>"
      ]
     },
     "metadata": {
      "needs_background": "light"
     },
     "output_type": "display_data"
    }
   ],
   "source": [
    "from matplotlib import pyplot as plt\n",
    "#plt.plot(range(0, 4), validation_acc, label=\"Val acc\")\n",
    "plt.plot(range(0, 10), loss_f, label=\"loss\")\n",
    "plt.legend(title=\"\")\n",
    "plt.xlabel(\"epoch\")\n",
    "plt.ylabel(\"loss\")\n",
    "plt.show()"
   ]
  },
  {
   "cell_type": "code",
   "execution_count": 74,
   "metadata": {},
   "outputs": [
    {
     "data": {
      "image/png": "[encoded data removed]",
      "text/plain": [
       "<Figure size 432x288 with 1 Axes>"
      ]
     },
     "metadata": {
      "needs_background": "light"
     },
     "output_type": "display_data"
    }
   ],
   "source": [
    "\n",
    "plt.plot(range(0, 10), validation_acc, label=\"Val acc\")\n",
    "plt.plot(range(0, 10), training_acc, label=\"train acc\")\n",
    "#plt.plot(range(0, 10), loss_f, label=\"loss\")\n",
    "plt.legend(title=\"\")\n",
    "plt.xlabel(\"epoch\")\n",
    "plt.ylabel(\"Accuracy\")\n",
    "plt.show()"
   ]
  },
  {
   "cell_type": "code",
   "execution_count": 76,
   "metadata": {},
   "outputs": [
    {
     "name": "stderr",
     "output_type": "stream",
     "text": [
      "C:\\Users\\Sghir\\Anaconda3\\lib\\site-packages\\ipykernel_launcher.py:48: UserWarning: volatile was removed and now has no effect. Use `with torch.no_grad():` instead.\n"
     ]
    },
    {
     "name": "stdout",
     "output_type": "stream",
     "text": [
      "Accuracy of the model on the test set: 98.72%\n"
     ]
    }
   ],
   "source": [
    "# Evaluate test set \n",
    "\n",
    "test_acc=clf.evalute(loader_test)\n",
    "print(\"Accuracy of the model on the test set: {:3.2%}\".format(test_acc))"
   ]
  },
  {
   "cell_type": "markdown",
   "metadata": {},
   "source": [
    "## Comparision CNN vs MLP"
   ]
  },
  {
   "cell_type": "markdown",
   "metadata": {},
   "source": [
    "Convolutional Neural Networks were designed to map image data to an output variable, They have proven so effective that they are the go-to method for any type of prediction problem involving image data as an input or  for character recognition . whereas, MLP are suitable for classification prediction problems where inputs are assigned a class or label. In this project, The deep CNNs successfully performed high-level characters classification, and achieved valid classification accuracy around 98.61%, whereas the best conventional MLPs achieved 96.79% . However,  The classification accuracy improvement comes at the cost of a penalty in processor runtime.\n"
   ]
  }
 ],
 "metadata": {
  "kernelspec": {
   "display_name": "Python 3",
   "language": "python",
   "name": "python3"
  },
  "language_info": {
   "codemirror_mode": {
    "name": "ipython",
    "version": 3
   },
   "file_extension": ".py",
   "mimetype": "text/x-python",
   "name": "python",
   "nbconvert_exporter": "python",
   "pygments_lexer": "ipython3",
   "version": "3.7.2"
  }
 },
 "nbformat": 4,
 "nbformat_minor": 2
}
